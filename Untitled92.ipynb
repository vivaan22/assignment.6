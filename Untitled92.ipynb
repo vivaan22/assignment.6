{
 "cells": [
  {
   "cell_type": "code",
   "execution_count": null,
   "id": "5d0e8915",
   "metadata": {},
   "outputs": [],
   "source": [
    "var findTheDifference = function(s, t) {\n",
    "var hashTable = {};\n",
    "var array = s.split('');\n",
    "   array.forEach(function (element) {\n",
    "   hashTable[element] = element;\n",
    "   });\n",
    "   for( var i = 0; i < t.length; i++) {\n",
    "      if(!hashTable.hasOwnProperty(t.charAt(i))) {\n",
    "         return t.charAt(i);\n",
    "      }\n",
    "  }\n",
    "};"
   ]
  },
  {
   "cell_type": "code",
   "execution_count": null,
   "id": "fa630d80",
   "metadata": {},
   "outputs": [],
   "source": [
    "from collections import OrderedDict\n",
    "\n",
    "def count_datatypes(*args):\n",
    "    if not args:\n",
    "      return [0, 0, 0, 0, 0, 0]\n",
    "\n",
    "    types = {int: 0, str: 0, bool: 0, list: 0, tuple: 0, dict: 0}\n",
    "    od = OrderedDict([(int, 0), (str, 0), (bool, 0), (list, 0), (tuple, 0), (dict, 0)])\n",
    "\n",
    "    for k, v in types.items():\n",
    "      for a in args:\n",
    "        if type(a) == k:\n",
    "          od[k] += 1\n",
    "\n",
    "    res = [i for i in od.values()]\n",
    "\n",
    "    return res\n",
    " "
   ]
  },
  {
   "cell_type": "code",
   "execution_count": null,
   "id": "0a9bb4a2",
   "metadata": {},
   "outputs": [],
   "source": [
    " num in nums:\n",
    "    if num == 4:\n",
    "      count = count + 1\n",
    "\n",
    "  return count\n",
    "\n",
    "print(list_count_4([1, 4, 6, 7, 4]))\n",
    "print(list_count_4([1, 4, 6, 4, 7, 4]))"
   ]
  },
  {
   "cell_type": "code",
   "execution_count": null,
   "id": "ed4f3ca7",
   "metadata": {},
   "outputs": [],
   "source": [
    "def Fibonacci_num(m): \n",
    "    u = 0\n",
    "    v = 1\n",
    "    if m < 0: \n",
    "        print(\"Incorrect input entered\") \n",
    "    elif m == 0: \n",
    "        return u \n",
    "    elif m == 1: \n",
    "        return v\n",
    "    else: \n",
    "        for i in range(2,m): \n",
    "            c = u + v \n",
    "            u = v\n",
    "            v = c \n",
    "        return v"
   ]
  },
  {
   "cell_type": "code",
   "execution_count": null,
   "id": "3b0618de",
   "metadata": {},
   "outputs": [],
   "source": [
    "class OnesThreesNines{\n",
    "  constructor(x){\n",
    "    this.x = x;\n",
    "  };\n",
    "  \n",
    "  get ones(){\n",
    "    return this.x\n",
    "  };\n",
    "  get threes(){\n",
    "    return Math.floor(this.x/3)\n",
    "  };\n",
    "  get nines(){\n",
    "    return Math.floor(this.x/9)\n",
    "  };\n",
    "};\n",
    "\n",
    "let g = new OnesThreesNines(5);\n",
    "console.log(g.ones);\n",
    "console.log(g.threes);\n",
    "console.log(g.nines);"
   ]
  },
  {
   "cell_type": "code",
   "execution_count": null,
   "id": "19030f36",
   "metadata": {},
   "outputs": [],
   "source": [
    "int fib(int n)\n",
    "{\n",
    "    if (n <= 1)\n",
    "        return n;\n",
    "    return fib(n-1) + fib(n-2);\n",
    "}\n",
    " \n",
    "int main ()\n",
    "{\n",
    "    int n = 9;\n",
    "    cout << fib(n);\n",
    "    getchar();\n",
    "    return 0;\n",
    "}"
   ]
  }
 ],
 "metadata": {
  "kernelspec": {
   "display_name": "Python 3",
   "language": "python",
   "name": "python3"
  },
  "language_info": {
   "codemirror_mode": {
    "name": "ipython",
    "version": 3
   },
   "file_extension": ".py",
   "mimetype": "text/x-python",
   "name": "python",
   "nbconvert_exporter": "python",
   "pygments_lexer": "ipython3",
   "version": "3.8.8"
  }
 },
 "nbformat": 4,
 "nbformat_minor": 5
}
